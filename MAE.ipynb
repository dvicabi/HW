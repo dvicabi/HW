{
 "cells": [
  {
   "cell_type": "code",
   "execution_count": 12,
   "metadata": {},
   "outputs": [
    {
     "name": "stdout",
     "output_type": "stream",
     "text": [
      "mae: 0.415\n",
      "mse: 0.187\n",
      "rmse 0.433\n"
     ]
    }
   ],
   "source": [
    "import numpy as np\n",
    "from sklearn.metrics import mean_absolute_error, mean_squared_error\n",
    "\n",
    "y_true = np.array([\n",
    "    10.5, 8.2, 7.3, 15.4, 12.0,\n",
    "    9.8, 6.7, 11.2, 13.5, 9.0,\n",
    "    8.1, 14.2, 10.0, 7.5, 12.8,\n",
    "    9.3, 11.8, 8.9, 10.7, 13.1\n",
    "])\n",
    "\n",
    "# predicted values\n",
    "y_pred = np.array([\n",
    "    11.2, 7.8, 7.0, 16.1, 11.5,\n",
    "    9.5, 7.2, 10.8, 14.0, 8.7,\n",
    "    8.5, 13.9, 10.4, 7.8, 12.5,\n",
    "    9.0, 12.3, 9.4, 11.1, 12.8\n",
    "])\n",
    "\n",
    "mae = mean_absolute_error(y_true, y_pred)\n",
    "print(f\"mae: {mae:.3f}\")\n",
    "\n",
    "mse = mean_squared_error(y_true, y_pred)\n",
    "print(f\"mse: {mse:.3f}\")\n",
    "\n",
    "rmse = np.sqrt(mse)\n",
    "print(f\"rmse {rmse:.3f}\")"
   ]
  },
  {
   "cell_type": "code",
   "execution_count": 9,
   "metadata": {},
   "outputs": [
    {
     "name": "stdout",
     "output_type": "stream",
     "text": [
      "Model fitted\n",
      "Coefficient: 1.0485\n",
      "Intercept: 0.9333\n"
     ]
    },
    {
     "data": {
      "text/plain": [
       "['linear_model.pkl']"
      ]
     },
     "execution_count": 9,
     "metadata": {},
     "output_type": "execute_result"
    }
   ],
   "source": [
    "import numpy as np\n",
    "from sklearn.linear_model import LinearRegression\n",
    "from sklearn.pipeline import Pipeline\n",
    "from sklearn.preprocessing import StandardScaler\n",
    "import joblib\n",
    "\n",
    "# Create simple data with 10 data points\n",
    "X = np.array([1, 2, 3, 4, 5, 6, 7, 8, 9, 10]).reshape(-1, 1)  # reshape for sklearn\n",
    "y = np.array([2, 4, 5, 4, 5, 7, 8, 9, 11, 12])\n",
    "\n",
    "# Fit the model\n",
    "model = LinearRegression()\n",
    "model.fit(X, y)\n",
    "print(\"Model fitted\")\n",
    "print(f\"Coefficient: {model.coef_[0]:.4f}\")\n",
    "print(f\"Intercept: {model.intercept_:.4f}\")\n",
    "\n",
    "joblib.dump(model, \"linear_model.pkl\")"
   ]
  },
  {
   "cell_type": "code",
   "execution_count": 4,
   "metadata": {},
   "outputs": [
    {
     "data": {
      "text/plain": [
       "array([6.17575758])"
      ]
     },
     "execution_count": 4,
     "metadata": {},
     "output_type": "execute_result"
    }
   ],
   "source": [
    "model1 = joblib.load(\"linear_model.pkl\")\n",
    "\n",
    "user_input = int(input(\"Please enter a number: \"))\n",
    "input_data = np.array([[user_input]])\n",
    "\n",
    "pred = model1.predict(input_data)\n",
    "pred"
   ]
  },
  {
   "cell_type": "code",
   "execution_count": 5,
   "metadata": {},
   "outputs": [
    {
     "name": "stdout",
     "output_type": "stream",
     "text": [
      "Predictions on new data: [6.17575758]\n"
     ]
    }
   ],
   "source": [
    "new_data = np.array([5]).reshape(-1, 1)\n",
    "new_predictions = model1.predict(new_data)\n",
    "print(\"Predictions on new data:\", new_predictions)"
   ]
  },
  {
   "cell_type": "code",
   "execution_count": 10,
   "metadata": {},
   "outputs": [
    {
     "data": {
      "text/plain": [
       "['linear_model.joblib']"
      ]
     },
     "execution_count": 10,
     "metadata": {},
     "output_type": "execute_result"
    }
   ],
   "source": [
    "model = Pipeline([\n",
    "    ('scaler', StandardScaler()),\n",
    "    ('regressor', LinearRegression())\n",
    "])\n",
    "model.fit(X, y)\n",
    "joblib.dump(model, 'linear_model.joblib')"
   ]
  },
  {
   "cell_type": "code",
   "execution_count": 11,
   "metadata": {},
   "outputs": [
    {
     "name": "stdout",
     "output_type": "stream",
     "text": [
      "Predictions on new data: [6.17575758]\n"
     ]
    }
   ],
   "source": [
    "model2 = joblib.load(\"linear_model.joblib\")\n",
    "\n",
    "new_data = np.array([5]).reshape(-1, 1)\n",
    "new_predictions = model1.predict(new_data)\n",
    "print(\"Predictions on new data:\", new_predictions)"
   ]
  },
  {
   "cell_type": "code",
   "execution_count": null,
   "metadata": {},
   "outputs": [],
   "source": []
  }
 ],
 "metadata": {
  "kernelspec": {
   "display_name": "Python 3",
   "language": "python",
   "name": "python3"
  },
  "language_info": {
   "codemirror_mode": {
    "name": "ipython",
    "version": 3
   },
   "file_extension": ".py",
   "mimetype": "text/x-python",
   "name": "python",
   "nbconvert_exporter": "python",
   "pygments_lexer": "ipython3",
   "version": "3.13.2"
  }
 },
 "nbformat": 4,
 "nbformat_minor": 2
}
