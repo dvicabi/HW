{
 "cells": [
  {
   "cell_type": "code",
   "execution_count": null,
   "metadata": {},
   "outputs": [],
   "source": [
    "def return_two_numbers():\n",
    "    return 10, 20\n",
    "\n",
    "a, _ = return_two_numbers()\n",
    "print(a)  # מדפיס 10 בלבד\n"
   ]
  },
  {
   "cell_type": "code",
   "execution_count": null,
   "metadata": {},
   "outputs": [],
   "source": [
    "def return_two_numbers():\n",
    "    return 10, 20\n",
    "\n",
    "a, _ = return_two_numbers()\n",
    "print(a)  # מדפיס 10 בלבד\n"
   ]
  },
  {
   "cell_type": "code",
   "execution_count": null,
   "metadata": {},
   "outputs": [],
   "source": []
  },
  {
   "cell_type": "markdown",
   "metadata": {},
   "source": []
  }
 ],
 "metadata": {
  "kernelspec": {
   "display_name": "Python 3",
   "language": "python",
   "name": "python3"
  },
  "language_info": {
   "name": "python",
   "version": "3.12.3"
  }
 },
 "nbformat": 4,
 "nbformat_minor": 2
}
