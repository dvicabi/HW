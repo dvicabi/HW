{
 "cells": [
  {
   "cell_type": "code",
   "execution_count": 1,
   "id": "4ebc0fda",
   "metadata": {},
   "outputs": [
    {
     "name": "stdout",
     "output_type": "stream",
     "text": [
      "Taylor Swift PERSON\n",
      "Los Angeles GPE\n",
      "March 3rd, 2023 DATE\n"
     ]
    }
   ],
   "source": [
    "import spacy\n",
    "\n",
    "nlp = spacy.load(\"en_core_web_sm\")\n",
    "text = \"Taylor Swift performed in Los Angeles on March 3rd, 2023.\"\n",
    "doc = nlp(text)\n",
    "\n",
    "for ent in doc.ents:\n",
    "    print(ent.text, ent.label_)"
   ]
  },
  {
   "cell_type": "code",
   "execution_count": 2,
   "id": "b89a7384",
   "metadata": {},
   "outputs": [
    {
     "name": "stdout",
     "output_type": "stream",
     "text": [
      "Serena Williams\n",
      "Tom Hanks\n"
     ]
    }
   ],
   "source": [
    "def extract_persons(text):\n",
    "    doc = nlp(text)\n",
    "    for ent in doc.ents:\n",
    "        if ent.label_ == \"PERSON\":\n",
    "            print(ent.text)\n",
    "\n",
    "# Test\n",
    "extract_persons(\"Serena Williams had dinner with Tom Hanks in Paris.\")"
   ]
  },
  {
   "cell_type": "code",
   "execution_count": 4,
   "id": "79304c8c",
   "metadata": {},
   "outputs": [
    {
     "name": "stdout",
     "output_type": "stream",
     "text": [
      "She        → she\n",
      "was        → be\n",
      "running    → run\n",
      "and        → and\n",
      "had        → have\n",
      "run        → run\n",
      "5          → 5\n",
      "kilometers → kilometer\n",
      "by         → by\n",
      "7          → 7\n",
      "am         → am\n",
      ".          → .\n"
     ]
    }
   ],
   "source": [
    "text = \"She was running and had run 5 kilometers by 7am.\"\n",
    "doc = nlp(text)\n",
    "\n",
    "for token in doc:\n",
    "    print(f\"{token.text:<10} → {token.lemma_}\")"
   ]
  },
  {
   "cell_type": "code",
   "execution_count": 5,
   "id": "449a5faa",
   "metadata": {},
   "outputs": [
    {
     "name": "stdout",
     "output_type": "stream",
     "text": [
      "['example', 'sentence', 'stop', 'words', '.']\n"
     ]
    }
   ],
   "source": [
    "def remove_stopwords(text):\n",
    "    doc = nlp(text)\n",
    "    return [token.text for token in doc if not token.is_stop]\n",
    "\n",
    "# Test\n",
    "print(remove_stopwords(\"This is an example sentence with some stop words.\"))"
   ]
  },
  {
   "cell_type": "code",
   "execution_count": 6,
   "id": "9d146f9d",
   "metadata": {},
   "outputs": [
    {
     "name": "stdout",
     "output_type": "stream",
     "text": [
      "is is a stop word\n",
      "and is a stop word\n",
      "powerful is a stop word\n"
     ]
    }
   ],
   "source": [
    "from spacy.lang.en.stop_words import STOP_WORDS\n",
    "\n",
    "nlp.vocab[\"powerful\"].is_stop = True\n",
    "text = \"SpaCy is awesome and powerful.\"\n",
    "doc = nlp(text)\n",
    "\n",
    "for token in doc:\n",
    "    if token.is_stop:\n",
    "        print(f\"{token.text} is a stop word\")"
   ]
  },
  {
   "cell_type": "code",
   "execution_count": 7,
   "id": "a366c20b",
   "metadata": {},
   "outputs": [
    {
     "name": "stdout",
     "output_type": "stream",
     "text": [
      "artificial intelligence\n"
     ]
    }
   ],
   "source": [
    "from spacy.matcher import PhraseMatcher\n",
    "\n",
    "matcher = PhraseMatcher(nlp.vocab)\n",
    "patterns = [nlp(\"artificial intelligence\")]\n",
    "matcher.add(\"AI_PHRASE\", patterns)\n",
    "\n",
    "doc = nlp(\"Artificial Intelligence is the future. I study artificial intelligence.\")\n",
    "matches = matcher(doc)\n",
    "\n",
    "for match_id, start, end in matches:\n",
    "    print(doc[start:end].text)\n"
   ]
  },
  {
   "cell_type": "code",
   "execution_count": 8,
   "id": "cc358557",
   "metadata": {},
   "outputs": [
    {
     "name": "stdout",
     "output_type": "stream",
     "text": [
      "The        DET        determiner\n",
      "cat        NOUN       noun\n",
      "sat        VERB       verb\n",
      "on         ADP        adposition\n",
      "the        DET        determiner\n",
      "mat        NOUN       noun\n",
      ".          PUNCT      punctuation\n"
     ]
    }
   ],
   "source": [
    "def pos_explanation(text):\n",
    "    doc = nlp(text)\n",
    "    for token in doc:\n",
    "        print(f\"{token.text:<10} {token.pos_:<10} {spacy.explain(token.pos_)}\")\n",
    "\n",
    "# Test\n",
    "pos_explanation(\"The cat sat on the mat.\")\n"
   ]
  },
  {
   "cell_type": "code",
   "execution_count": 9,
   "id": "cb5e9f71",
   "metadata": {},
   "outputs": [
    {
     "name": "stdout",
     "output_type": "stream",
     "text": [
      "Sentence: SpaCy is great.\n",
      "Sentence: It helps with NLP tasks.\n",
      "Sentence: Really useful.\n"
     ]
    }
   ],
   "source": [
    "from spacy.pipeline import Sentencizer\n",
    "\n",
    "def custom_sentence_split(text):\n",
    "    nlp.remove_pipe(\"parser\")\n",
    "    if \"sentencizer\" not in nlp.pipe_names:\n",
    "        nlp.add_pipe(\"sentencizer\")\n",
    "\n",
    "    doc = nlp(text.replace(\"^\", \".\"))\n",
    "    for sent in doc.sents:\n",
    "        print(f\"Sentence: {sent.text.strip()}\")\n",
    "\n",
    "# Test\n",
    "custom_sentence_split(\"SpaCy is great^It helps with NLP tasks^Really useful.\")\n"
   ]
  },
  {
   "cell_type": "code",
   "execution_count": 12,
   "id": "853b203a",
   "metadata": {},
   "outputs": [
    {
     "name": "stdout",
     "output_type": "stream",
     "text": [
      "SpaCy      PROPN      proper noun\n",
      "is         AUX        auxiliary\n",
      "great^It   PRON       pronoun\n",
      "helps      VERB       verb\n",
      "with       ADP        adposition\n",
      "NLP        PROPN      proper noun\n",
      "tasks^Really ADV        adverb\n",
      "useful     ADJ        adjective\n",
      ".          PUNCT      punctuation\n"
     ]
    }
   ],
   "source": [
    "from spacy import displacy\n",
    "\n",
    "def pos_with_visualization():\n",
    "    sentence = input(\"Enter a sentence: \")\n",
    "    doc = nlp(sentence)\n",
    "    \n",
    "    for token in doc:\n",
    "        print(f\"{token.text:<10} {token.pos_:<10} {spacy.explain(token.pos_)}\")\n",
    "    \n",
    "    displacy.render(doc, style=\"dep\", jupyter=False)  # open in browser\n",
    "\n",
    "# Call function\n",
    "pos_with_visualization()"
   ]
  }
 ],
 "metadata": {
  "kernelspec": {
   "display_name": "Python 3",
   "language": "python",
   "name": "python3"
  },
  "language_info": {
   "codemirror_mode": {
    "name": "ipython",
    "version": 3
   },
   "file_extension": ".py",
   "mimetype": "text/x-python",
   "name": "python",
   "nbconvert_exporter": "python",
   "pygments_lexer": "ipython3",
   "version": "3.13.2"
  }
 },
 "nbformat": 4,
 "nbformat_minor": 5
}
