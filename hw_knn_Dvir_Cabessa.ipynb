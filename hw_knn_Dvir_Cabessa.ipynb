{
 "cells": [
  {
   "cell_type": "code",
   "execution_count": 20,
   "id": "5d25824d",
   "metadata": {},
   "outputs": [],
   "source": [
    "import numpy as np\n",
    "from sklearn.model_selection import train_test_split, GridSearchCV\n",
    "from sklearn.pipeline import Pipeline\n",
    "from sklearn.preprocessing import MinMaxScaler\n",
    "from sklearn.neighbors import KNeighborsClassifier\n",
    "from sklearn.metrics import accuracy_score, classification_report, confusion_matrix\n",
    "from sklearn.metrics.pairwise import euclidean_distances"
   ]
  },
  {
   "cell_type": "code",
   "execution_count": 2,
   "id": "a3ed29ac",
   "metadata": {},
   "outputs": [],
   "source": [
    "X = np.array([\n",
    "    [22, 60, 1],\n",
    "    [25, 75, 2],\n",
    "    [30, 80, 3],\n",
    "    [35, 120, 5],\n",
    "    [42, 150, 10],\n",
    "    [50, 110, 3],\n",
    "    [23, 95, 1],\n",
    "    [29, 100, 2],\n",
    "    [33, 105, 4],\n",
    "    [48, 135, 9]\n",
    "]\n",
    ")\n",
    "\n",
    "\n",
    "y = np.array([0, 0, 1, 1, 1, 1, 0, 1, 1, 1])"
   ]
  },
  {
   "cell_type": "code",
   "execution_count": 5,
   "id": "7b7e1aff",
   "metadata": {},
   "outputs": [],
   "source": [
    "X_train, X_test, y_train, y_test = train_test_split(X, y, test_size=0.3, random_state=42)"
   ]
  },
  {
   "cell_type": "code",
   "execution_count": 8,
   "id": "cbc5905a",
   "metadata": {},
   "outputs": [
    {
     "data": {
      "text/plain": [
       "1.0"
      ]
     },
     "execution_count": 8,
     "metadata": {},
     "output_type": "execute_result"
    }
   ],
   "source": [
    "model = Pipeline([\n",
    "    (\"scaler\", MinMaxScaler()),\n",
    "    (\"knn\", KNeighborsClassifier(3))\n",
    "])\n",
    "model.fit(X_train, y_train)\n",
    "y_pred = model.predict(X_test)\n",
    "\n",
    "accuracy = accuracy_score(y_test, y_pred)\n",
    "accuracy"
   ]
  },
  {
   "cell_type": "code",
   "execution_count": 14,
   "id": "0d3c3421",
   "metadata": {},
   "outputs": [
    {
     "data": {
      "text/plain": [
       "array([[0.19230769, 0.38888889, 0.22222222]])"
      ]
     },
     "execution_count": 14,
     "metadata": {},
     "output_type": "execute_result"
    }
   ],
   "source": [
    "scaler = model.named_steps[\"scaler\"]\n",
    "new_c = np.array([27, 95, 3]).reshape(1, -1)\n",
    "new_scaled = scaler.transform(new_c)\n",
    "new_scaled"
   ]
  },
  {
   "cell_type": "code",
   "execution_count": 15,
   "id": "012b6df5",
   "metadata": {},
   "outputs": [
    {
     "data": {
      "text/plain": [
       "np.int64(0)"
      ]
     },
     "execution_count": 15,
     "metadata": {},
     "output_type": "execute_result"
    }
   ],
   "source": [
    "new_pred = model.predict(new_scaled)\n",
    "new_pred[0]"
   ]
  },
  {
   "cell_type": "code",
   "execution_count": 21,
   "id": "3bc1d538",
   "metadata": {},
   "outputs": [
    {
     "name": "stdout",
     "output_type": "stream",
     "text": [
      "1st: (array([ 29, 100,   2]), np.int64(1), np.float64(0.14611385467759627))\n",
      "2nd: (array([30, 80,  3]), np.int64(1), np.float64(0.2027101064210499))\n",
      "3rd: (array([25, 75,  2]), np.int64(0), np.float64(0.26008759067868265))\n"
     ]
    }
   ],
   "source": [
    "new_client = np.array([[27, 95, 3]])\n",
    "X_scaled = model.named_steps[\"scaler\"].transform(X)\n",
    "new_scaled = model.named_steps[\"scaler\"].transform(new_client)\n",
    "\n",
    "distances = euclidean_distances(X_scaled, new_scaled).flatten()\n",
    "nearest_indices = distances.argsort()[:3]\n",
    "\n",
    "first = X[nearest_indices[0]], y[nearest_indices[0]], distances[nearest_indices[0]]\n",
    "second = X[nearest_indices[1]], y[nearest_indices[1]], distances[nearest_indices[1]]\n",
    "third = X[nearest_indices[2]], y[nearest_indices[2]], distances[nearest_indices[2]]\n",
    "\n",
    "print(\"1st:\", first)\n",
    "print(\"2nd:\", second)\n",
    "print(\"3rd:\", third)"
   ]
  },
  {
   "cell_type": "code",
   "execution_count": 22,
   "id": "510ddbee",
   "metadata": {},
   "outputs": [
    {
     "name": "stdout",
     "output_type": "stream",
     "text": [
      "Prediction: 1\n"
     ]
    }
   ],
   "source": [
    "votes = y[nearest_indices]\n",
    "prediction = 1 if sum(votes) >= 2 else 0\n",
    "print(\"Prediction:\", prediction)"
   ]
  },
  {
   "cell_type": "markdown",
   "id": "48c7a4e0",
   "metadata": {},
   "source": [
    "המודל חישב את המרחקים בין הלקוח החדש לכל שאר הלקוחות לאחר נרמול הנתונים\n",
    "\n",
    "שלושת השכנים הקרובים ביותר הם אחד שהחזיר הלוואה ושניים שלא לפי שיטת KNN עם K=3\n",
    "\n",
    "תחזית המודל מבוססת על רוב הקולות\n",
    "ולכן התחזית היא לא יחזיר הלוואה"
   ]
  },
  {
   "cell_type": "markdown",
   "id": "3be5dd0e",
   "metadata": {},
   "source": []
  }
 ],
 "metadata": {
  "kernelspec": {
   "display_name": "Python 3",
   "language": "python",
   "name": "python3"
  },
  "language_info": {
   "codemirror_mode": {
    "name": "ipython",
    "version": 3
   },
   "file_extension": ".py",
   "mimetype": "text/x-python",
   "name": "python",
   "nbconvert_exporter": "python",
   "pygments_lexer": "ipython3",
   "version": "3.13.2"
  }
 },
 "nbformat": 4,
 "nbformat_minor": 5
}
